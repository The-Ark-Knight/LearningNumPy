{
 "cells": [
  {
   "cell_type": "code",
   "execution_count": null,
   "id": "initial_id",
   "metadata": {
    "collapsed": true
   },
   "outputs": [],
   "source": [
    "print(\"Welcome to the basics\")"
   ]
  },
  {
   "cell_type": "markdown",
   "source": [
    "# Numpy basics with syntax and explanation"
   ],
   "metadata": {
    "collapsed": false
   },
   "id": "80ddbd72e917bfc0"
  },
  {
   "cell_type": "code",
   "outputs": [],
   "source": [
    "# importing numpy to our program\n",
    "import numpy as np"
   ],
   "metadata": {
    "collapsed": false
   },
   "id": "9b3954d435b04b5e"
  },
  {
   "cell_type": "code",
   "outputs": [],
   "source": [
    "my_list = [1, 2, 3, 4, 5]\n",
    "my_array = np.array(my_list) # converting the list into a array using the array() function in the numpy library \n",
    "print(my_array)"
   ],
   "metadata": {
    "collapsed": false
   },
   "id": "bdc7cc7021da37f9"
  },
  {
   "cell_type": "code",
   "outputs": [],
   "source": [
    "zeros_array = np.zeros((2, 3)) \n",
    "print(zeros_array)"
   ],
   "metadata": {
    "collapsed": false
   },
   "id": "fa739dd8dd0f8fa8"
  },
  {
   "cell_type": "code",
   "outputs": [],
   "source": [
    "ones_array = np.ones((3, 2))\n",
    "print(ones_array)"
   ],
   "metadata": {
    "collapsed": false
   },
   "id": "e46dc5922f318fec"
  },
  {
   "cell_type": "code",
   "outputs": [],
   "source": [
    "identity_matrix = np.eye(3)\n",
    "print(identity_matrix)"
   ],
   "metadata": {
    "collapsed": false
   },
   "id": "c2d576f9ecc27ffb"
  },
  {
   "cell_type": "markdown",
   "source": [
    "## Basic NumPy Operations"
   ],
   "metadata": {
    "collapsed": false
   },
   "id": "cf5c816a12b8264d"
  },
  {
   "cell_type": "code",
   "outputs": [],
   "source": [
    "a = np.array([1, 2, 3])\n",
    "b = np.array([4, 5, 6])\n",
    "\n",
    "# Addition\n",
    "result_add = a + b\n",
    "print(\"Addition:\", result_add)\n",
    "\n",
    "# Multiplication\n",
    "result_mul = a * b\n",
    "print(\"Multiplication:\", result_mul)"
   ],
   "metadata": {
    "collapsed": false
   },
   "id": "7c895d44bca604a5"
  },
  {
   "cell_type": "code",
   "outputs": [],
   "source": [
    "matrix_a = np.array([[1, 2], [3, 4]])\n",
    "matrix_b = np.array([[5, 6], [7, 8]])\n",
    "\n",
    "result_matmul = np.matmul(matrix_a, matrix_b)\n",
    "print(\"Matrix Multiplication:\", result_matmul)"
   ],
   "metadata": {
    "collapsed": false
   },
   "id": "35888493b234c44a"
  },
  {
   "cell_type": "code",
   "outputs": [],
   "source": [
    "my_array = np.array([1, 2, 3, 4, 5])\n",
    "\n",
    "# Accessing elements\n",
    "print(\"First Element:\", my_array[0])\n",
    "print(\"Slicing:\", my_array[1:4])\n",
    "\n",
    "# 2D Array\n",
    "two_d_array = np.array([[1, 2, 3], [4, 5, 6], [7, 8, 9]])\n",
    "print(\"Element at (1,2):\", two_d_array[1, 2])"
   ],
   "metadata": {
    "collapsed": false
   },
   "id": "1f96a58cdd88476f"
  },
  {
   "cell_type": "markdown",
   "source": [
    "## NumPy Functions "
   ],
   "metadata": {
    "collapsed": false
   },
   "id": "a5007bacf83fce17"
  },
  {
   "cell_type": "code",
   "outputs": [],
   "source": [
    "data = np.array([1, 2, 3, 4, 5])\n",
    "\n",
    "# Mean\n",
    "mean_value = np.mean(data)\n",
    "print(\"Mean:\", mean_value)\n",
    "\n",
    "# Standard Deviation\n",
    "std_dev = np.std(data)\n",
    "print(\"Standard Deviation:\", std_dev)"
   ],
   "metadata": {
    "collapsed": false
   },
   "id": "b2bd006cdfc52b04"
  },
  {
   "cell_type": "code",
   "outputs": [],
   "source": [
    "original_array = np.array([1, 2, 3, 4, 5, 6])\n",
    "reshaped_array = original_array.reshape(2, 3)\n",
    "print(\"Reshaped Array:\", reshaped_array)"
   ],
   "metadata": {
    "collapsed": false
   },
   "id": "76922c0dab66d03d"
  },
  {
   "cell_type": "markdown",
   "source": [],
   "metadata": {
    "collapsed": false
   },
   "id": "f7db4e9c1fdb4713"
  }
 ],
 "metadata": {
  "kernelspec": {
   "display_name": "Python 3",
   "language": "python",
   "name": "python3"
  },
  "language_info": {
   "codemirror_mode": {
    "name": "ipython",
    "version": 2
   },
   "file_extension": ".py",
   "mimetype": "text/x-python",
   "name": "python",
   "nbconvert_exporter": "python",
   "pygments_lexer": "ipython2",
   "version": "2.7.6"
  }
 },
 "nbformat": 4,
 "nbformat_minor": 5
}
